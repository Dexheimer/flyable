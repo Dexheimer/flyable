{
  "nbformat": 4,
  "nbformat_minor": 0,
  "metadata": {
    "colab": {
      "provenance": []
    },
    "kernelspec": {
      "name": "python3",
      "display_name": "Python 3"
    },
    "language_info": {
      "name": "python"
    }
  },
  "cells": [
    {
      "cell_type": "code",
      "execution_count": 4,
      "metadata": {
        "colab": {
          "base_uri": "https://localhost:8080/"
        },
        "id": "TUhnfmvUmpoR",
        "outputId": "10b91afb-f123-4327-d75e-0467dd8d5806"
      },
      "outputs": [
        {
          "output_type": "stream",
          "name": "stdout",
          "text": [
            "Requirement already satisfied: requests in /usr/local/lib/python3.10/dist-packages (2.31.0)\n",
            "Requirement already satisfied: charset-normalizer<4,>=2 in /usr/local/lib/python3.10/dist-packages (from requests) (3.3.1)\n",
            "Requirement already satisfied: idna<4,>=2.5 in /usr/local/lib/python3.10/dist-packages (from requests) (3.4)\n",
            "Requirement already satisfied: urllib3<3,>=1.21.1 in /usr/local/lib/python3.10/dist-packages (from requests) (2.0.7)\n",
            "Requirement already satisfied: certifi>=2017.4.17 in /usr/local/lib/python3.10/dist-packages (from requests) (2023.7.22)\n"
          ]
        }
      ],
      "source": [
        "!pip install requests"
      ]
    },
    {
      "cell_type": "code",
      "source": [
        "import requests\n",
        "\n",
        "# url API\n",
        "url = 'https://archive-api.open-meteo.com/v1/archive?latitude=-22.846597372875394&longitude=-42.63389168107096&start_date=2022-01-01&end_date=2022-12-31&hourly=rain,windspeed_10m,windspeed_100m,winddirection_10m,winddirection_100m,windgusts_10m&daily=windspeed_10m_max,windgusts_10m_max,winddirection_10m_dominant&models=best_match'\n",
        "\n",
        "response = requests.get(url)\n",
        "\n",
        "# Verifique se a solicitação foi bem-sucedida (status code 200)\n",
        "if response.status_code == 200:\n",
        "    # Os dados estão no formato JSON (comum em APIs RESTful)\n",
        "    data = response.json()\n",
        "    # Agora você pode trabalhar com os dados\n",
        "else:\n",
        "    print(f'Erro na solicitação: {response.status_code}')"
      ],
      "metadata": {
        "colab": {
          "base_uri": "https://localhost:8080/"
        },
        "id": "ocyP2cy7m4Ym",
        "outputId": "b76514f8-a3ac-4d46-a10a-09ed59032c80"
      },
      "execution_count": 5,
      "outputs": [
        {
          "output_type": "stream",
          "name": "stdout",
          "text": [
            "Erro na solicitação: 400\n"
          ]
        }
      ]
    }
  ]
}