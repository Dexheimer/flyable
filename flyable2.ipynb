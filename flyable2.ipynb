{
  "nbformat": 4,
  "nbformat_minor": 0,
  "metadata": {
    "colab": {
      "provenance": [],
      "toc_visible": true,
      "include_colab_link": true
    },
    "kernelspec": {
      "name": "python3",
      "display_name": "Python 3"
    },
    "language_info": {
      "name": "python"
    }
  },
  "cells": [
    {
      "cell_type": "markdown",
      "metadata": {
        "id": "view-in-github",
        "colab_type": "text"
      },
      "source": [
        "<a href=\"https://colab.research.google.com/github/Dexheimer/flyable/blob/main/flyable2.ipynb\" target=\"_parent\"><img src=\"https://colab.research.google.com/assets/colab-badge.svg\" alt=\"Open In Colab\"/></a>"
      ]
    },
    {
      "cell_type": "markdown",
      "source": [
        "# Import dataset"
      ],
      "metadata": {
        "id": "uahQDQV9ciqe"
      }
    },
    {
      "cell_type": "code",
      "execution_count": 1,
      "metadata": {
        "colab": {
          "base_uri": "https://localhost:8080/"
        },
        "id": "TUhnfmvUmpoR",
        "outputId": "ad50336b-2fa7-4d3c-e43e-3daabc0196fc"
      },
      "outputs": [
        {
          "output_type": "stream",
          "name": "stdout",
          "text": [
            "Requirement already satisfied: pandas in /usr/local/lib/python3.10/dist-packages (1.5.3)\n",
            "Requirement already satisfied: python-dateutil>=2.8.1 in /usr/local/lib/python3.10/dist-packages (from pandas) (2.8.2)\n",
            "Requirement already satisfied: pytz>=2020.1 in /usr/local/lib/python3.10/dist-packages (from pandas) (2023.3.post1)\n",
            "Requirement already satisfied: numpy>=1.21.0 in /usr/local/lib/python3.10/dist-packages (from pandas) (1.23.5)\n",
            "Requirement already satisfied: six>=1.5 in /usr/local/lib/python3.10/dist-packages (from python-dateutil>=2.8.1->pandas) (1.16.0)\n",
            "Requirement already satisfied: numpy in /usr/local/lib/python3.10/dist-packages (1.23.5)\n"
          ]
        }
      ],
      "source": [
        "!pip install pandas\n",
        "!pip install numpy\n",
        "import pandas as pd\n",
        "import numpy as np\n"
      ]
    },
    {
      "cell_type": "code",
      "source": [
        "import sys\n",
        "sys.path"
      ],
      "metadata": {
        "colab": {
          "base_uri": "https://localhost:8080/"
        },
        "id": "ocyP2cy7m4Ym",
        "outputId": "673e9c56-8736-4774-ba18-55a194322727"
      },
      "execution_count": 2,
      "outputs": [
        {
          "output_type": "execute_result",
          "data": {
            "text/plain": [
              "['/content',\n",
              " '/env/python',\n",
              " '/usr/lib/python310.zip',\n",
              " '/usr/lib/python3.10',\n",
              " '/usr/lib/python3.10/lib-dynload',\n",
              " '',\n",
              " '/usr/local/lib/python3.10/dist-packages',\n",
              " '/usr/lib/python3/dist-packages',\n",
              " '/usr/local/lib/python3.10/dist-packages/IPython/extensions',\n",
              " '/root/.ipython']"
            ]
          },
          "metadata": {},
          "execution_count": 2
        }
      ]
    },
    {
      "cell_type": "code",
      "source": [
        "import pandas as pd\n",
        "\n",
        "# Carregue o arquivo CSV\n",
        "sampaio_db = pd.read_csv(\"/content/sample_data/sampaio_dataset.csv\")\n",
        "\n",
        "# Exiba os primeiros registros\n",
        "print(sampaio_db.head())\n"
      ],
      "metadata": {
        "colab": {
          "base_uri": "https://localhost:8080/"
        },
        "id": "zvi-guhfQ_S8",
        "outputId": "8002e1c6-136c-442b-d0e3-a7d8bb4f426f"
      },
      "execution_count": 7,
      "outputs": [
        {
          "output_type": "stream",
          "name": "stdout",
          "text": [
            "                                      name             datetime  temp  \\\n",
            "0  -22.846597372875394, -42.63389168107096  2023-11-02T00:00:00  23.0   \n",
            "1  -22.846597372875394, -42.63389168107096  2023-11-02T01:00:00  22.5   \n",
            "2  -22.846597372875394, -42.63389168107096  2023-11-02T02:00:00  22.0   \n",
            "3  -22.846597372875394, -42.63389168107096  2023-11-02T03:00:00  21.0   \n",
            "4  -22.846597372875394, -42.63389168107096  2023-11-02T04:00:00  21.4   \n",
            "\n",
            "   feelslike   dew  humidity  precip  precipprob preciptype  snow  ...  \\\n",
            "0       23.0  19.5     81.01     0.0         0.0       rain     0  ...   \n",
            "1       22.5  19.0     80.28     0.1       100.0       rain     0  ...   \n",
            "2       22.0  19.5     86.09     0.1       100.0       rain     0  ...   \n",
            "3       21.0  19.5     91.52     0.1       100.0       rain     0  ...   \n",
            "4       21.4  19.5     89.12     0.0         0.0       rain     0  ...   \n",
            "\n",
            "   sealevelpressure  cloudcover  visibility  solarradiation  solarenergy  \\\n",
            "0            1013.0        88.0        10.0             0.0          0.0   \n",
            "1            1012.4        93.2        10.0             0.0          0.0   \n",
            "2            1012.0        93.2         9.4             0.0          0.0   \n",
            "3            1012.0       100.0         5.8             0.0          0.0   \n",
            "4            1012.4       100.0         8.0             0.0          0.0   \n",
            "\n",
            "   uvindex  severerisk        conditions                 icon   stations  \n",
            "0        0          10  Partially cloudy  partly-cloudy-night  SBRJ,SBGL  \n",
            "1        0          10    Rain, Overcast                 rain  SBRJ,SBGL  \n",
            "2        0          10    Rain, Overcast                 rain  SBRJ,SBGL  \n",
            "3        0          10    Rain, Overcast                 rain  SBRJ,SBGL  \n",
            "4        0          10          Overcast               cloudy  SBRJ,SBGL  \n",
            "\n",
            "[5 rows x 24 columns]\n"
          ]
        }
      ]
    },
    {
      "cell_type": "code",
      "source": [
        "print(sampaio_db.head())"
      ],
      "metadata": {
        "id": "JtYYLwUSSBpz",
        "outputId": "5730b4b1-8ed8-4b09-b77b-38d50ea3acf6",
        "colab": {
          "base_uri": "https://localhost:8080/"
        }
      },
      "execution_count": 8,
      "outputs": [
        {
          "output_type": "stream",
          "name": "stdout",
          "text": [
            "                                      name             datetime  temp  \\\n",
            "0  -22.846597372875394, -42.63389168107096  2023-11-02T00:00:00  23.0   \n",
            "1  -22.846597372875394, -42.63389168107096  2023-11-02T01:00:00  22.5   \n",
            "2  -22.846597372875394, -42.63389168107096  2023-11-02T02:00:00  22.0   \n",
            "3  -22.846597372875394, -42.63389168107096  2023-11-02T03:00:00  21.0   \n",
            "4  -22.846597372875394, -42.63389168107096  2023-11-02T04:00:00  21.4   \n",
            "\n",
            "   feelslike   dew  humidity  precip  precipprob preciptype  snow  ...  \\\n",
            "0       23.0  19.5     81.01     0.0         0.0       rain     0  ...   \n",
            "1       22.5  19.0     80.28     0.1       100.0       rain     0  ...   \n",
            "2       22.0  19.5     86.09     0.1       100.0       rain     0  ...   \n",
            "3       21.0  19.5     91.52     0.1       100.0       rain     0  ...   \n",
            "4       21.4  19.5     89.12     0.0         0.0       rain     0  ...   \n",
            "\n",
            "   sealevelpressure  cloudcover  visibility  solarradiation  solarenergy  \\\n",
            "0            1013.0        88.0        10.0             0.0          0.0   \n",
            "1            1012.4        93.2        10.0             0.0          0.0   \n",
            "2            1012.0        93.2         9.4             0.0          0.0   \n",
            "3            1012.0       100.0         5.8             0.0          0.0   \n",
            "4            1012.4       100.0         8.0             0.0          0.0   \n",
            "\n",
            "   uvindex  severerisk        conditions                 icon   stations  \n",
            "0        0          10  Partially cloudy  partly-cloudy-night  SBRJ,SBGL  \n",
            "1        0          10    Rain, Overcast                 rain  SBRJ,SBGL  \n",
            "2        0          10    Rain, Overcast                 rain  SBRJ,SBGL  \n",
            "3        0          10    Rain, Overcast                 rain  SBRJ,SBGL  \n",
            "4        0          10          Overcast               cloudy  SBRJ,SBGL  \n",
            "\n",
            "[5 rows x 24 columns]\n"
          ]
        }
      ]
    },
    {
      "cell_type": "markdown",
      "source": [
        "# DataFrame properties"
      ],
      "metadata": {
        "id": "8lVeG2SNciIa"
      }
    },
    {
      "cell_type": "markdown",
      "source": [
        "- Check the number of rows"
      ],
      "metadata": {
        "id": "3_0ELXxldDP-"
      }
    },
    {
      "cell_type": "code",
      "source": [
        "print(len(sampaio_db))"
      ],
      "metadata": {
        "colab": {
          "base_uri": "https://localhost:8080/"
        },
        "id": "lR_tTP96c44S",
        "outputId": "d61976f4-d165-4e9e-e3c2-1a3169668794"
      },
      "execution_count": 10,
      "outputs": [
        {
          "output_type": "stream",
          "name": "stdout",
          "text": [
            "360\n"
          ]
        }
      ]
    },
    {
      "cell_type": "markdown",
      "source": [
        "- Check dataframe shape (number of rows, number of columns)"
      ],
      "metadata": {
        "id": "J2skGBw4dHIM"
      }
    },
    {
      "cell_type": "code",
      "source": [
        "print(sampaio_db.shape)"
      ],
      "metadata": {
        "colab": {
          "base_uri": "https://localhost:8080/"
        },
        "id": "q9ATmqwtdHb8",
        "outputId": "f86adf31-c813-4e67-9bbd-25527b9f92d6"
      },
      "execution_count": 11,
      "outputs": [
        {
          "output_type": "stream",
          "name": "stdout",
          "text": [
            "(360, 24)\n"
          ]
        }
      ]
    },
    {
      "cell_type": "markdown",
      "source": [
        "- check the column names"
      ],
      "metadata": {
        "id": "oJhQgrNycWcf"
      }
    },
    {
      "cell_type": "code",
      "source": [
        "print(sampaio_db.columns.values)"
      ],
      "metadata": {
        "colab": {
          "base_uri": "https://localhost:8080/"
        },
        "id": "HT4bPSNqcYMN",
        "outputId": "9572f3c2-af48-48d1-cc90-5df480adecf0"
      },
      "execution_count": 9,
      "outputs": [
        {
          "output_type": "stream",
          "name": "stdout",
          "text": [
            "['name' 'datetime' 'temp' 'feelslike' 'dew' 'humidity' 'precip'\n",
            " 'precipprob' 'preciptype' 'snow' 'snowdepth' 'windgust' 'windspeed'\n",
            " 'winddir' 'sealevelpressure' 'cloudcover' 'visibility' 'solarradiation'\n",
            " 'solarenergy' 'uvindex' 'severerisk' 'conditions' 'icon' 'stations']\n"
          ]
        }
      ]
    },
    {
      "cell_type": "markdown",
      "source": [
        "\n",
        "- print data type\n",
        "\n"
      ],
      "metadata": {
        "id": "PkixFJv8d5iT"
      }
    },
    {
      "cell_type": "code",
      "source": [
        "print(sampaio_db.dtypes)"
      ],
      "metadata": {
        "id": "BmV6bJRid3po",
        "outputId": "43a34303-cdb0-4661-a6bf-8494d0131612",
        "colab": {
          "base_uri": "https://localhost:8080/"
        }
      },
      "execution_count": 13,
      "outputs": [
        {
          "output_type": "stream",
          "name": "stdout",
          "text": [
            "name                 object\n",
            "datetime             object\n",
            "temp                float64\n",
            "feelslike           float64\n",
            "dew                 float64\n",
            "humidity            float64\n",
            "precip              float64\n",
            "precipprob          float64\n",
            "preciptype           object\n",
            "snow                  int64\n",
            "snowdepth             int64\n",
            "windgust            float64\n",
            "windspeed           float64\n",
            "winddir             float64\n",
            "sealevelpressure    float64\n",
            "cloudcover          float64\n",
            "visibility          float64\n",
            "solarradiation      float64\n",
            "solarenergy         float64\n",
            "uvindex               int64\n",
            "severerisk            int64\n",
            "conditions           object\n",
            "icon                 object\n",
            "stations             object\n",
            "dtype: object\n"
          ]
        }
      ]
    },
    {
      "cell_type": "markdown",
      "source": [
        "- select specific columns based on the column values."
      ],
      "metadata": {
        "id": "jq8ryVB0eX7m"
      }
    },
    {
      "cell_type": "code",
      "source": [
        "selection = sampaio_db[[\"name\", \"datetime\", \"precip\", \"windgust\", \"windspeed\", \"winddir\", \"cloudcover\", \"conditions\"]]\n",
        "print(selection.head())\n",
        "print(selection.columns.values)"
      ],
      "metadata": {
        "id": "20qLs1HXec5s",
        "outputId": "21441bd5-f887-4f5e-cd00-3004c66c2396",
        "colab": {
          "base_uri": "https://localhost:8080/"
        }
      },
      "execution_count": 16,
      "outputs": [
        {
          "output_type": "stream",
          "name": "stdout",
          "text": [
            "                                      name             datetime  precip  \\\n",
            "0  -22.846597372875394, -42.63389168107096  2023-11-02T00:00:00     0.0   \n",
            "1  -22.846597372875394, -42.63389168107096  2023-11-02T01:00:00     0.1   \n",
            "2  -22.846597372875394, -42.63389168107096  2023-11-02T02:00:00     0.1   \n",
            "3  -22.846597372875394, -42.63389168107096  2023-11-02T03:00:00     0.1   \n",
            "4  -22.846597372875394, -42.63389168107096  2023-11-02T04:00:00     0.0   \n",
            "\n",
            "   windgust  windspeed  winddir  cloudcover        conditions  \n",
            "0      14.8       10.9    227.0        88.0  Partially cloudy  \n",
            "1      14.4       10.1    243.0        93.2    Rain, Overcast  \n",
            "2       9.4        2.3    295.0        93.2    Rain, Overcast  \n",
            "3       8.3        4.8     78.0       100.0    Rain, Overcast  \n",
            "4       8.3        6.9    230.0       100.0          Overcast  \n",
            "['name' 'datetime' 'precip' 'windgust' 'windspeed' 'winddir' 'cloudcover'\n",
            " 'conditions']\n"
          ]
        }
      ]
    },
    {
      "cell_type": "markdown",
      "source": [
        "# Descriptive statistics"
      ],
      "metadata": {
        "id": "sIO_akQccjng"
      }
    },
    {
      "cell_type": "markdown",
      "source": [
        "- Check mean value of a column"
      ],
      "metadata": {
        "id": "jlMF35UEfiGb"
      }
    },
    {
      "cell_type": "code",
      "source": [
        "\n",
        "print(selection[\"windspeed\"].mean())\n",
        "print(selection[\"windgust\"].mean())\n"
      ],
      "metadata": {
        "id": "EShYij3hfhX4",
        "outputId": "1ab1d07a-fb07-4cde-c43c-6c3afe4edab0",
        "colab": {
          "base_uri": "https://localhost:8080/"
        }
      },
      "execution_count": 18,
      "outputs": [
        {
          "output_type": "stream",
          "name": "stdout",
          "text": [
            "6.603888888888889\n",
            "8.967500000000001\n"
          ]
        }
      ]
    },
    {
      "cell_type": "code",
      "source": [
        "print(selection.mean())"
      ],
      "metadata": {
        "id": "V-iur8c1fd26",
        "outputId": "a8d81114-6ee9-46c8-d642-521748ee21c2",
        "colab": {
          "base_uri": "https://localhost:8080/"
        }
      },
      "execution_count": 21,
      "outputs": [
        {
          "output_type": "stream",
          "name": "stdout",
          "text": [
            "precip          0.030278\n",
            "windgust        8.967500\n",
            "windspeed       6.603889\n",
            "winddir       163.301944\n",
            "cloudcover     60.676389\n",
            "dtype: float64\n"
          ]
        },
        {
          "output_type": "stream",
          "name": "stderr",
          "text": [
            "<ipython-input-21-005cdd247fb6>:1: FutureWarning: The default value of numeric_only in DataFrame.mean is deprecated. In a future version, it will default to False. In addition, specifying 'numeric_only=None' is deprecated. Select only valid columns or specify the value of numeric_only to silence this warning.\n",
            "  print(selection.mean())\n"
          ]
        }
      ]
    },
    {
      "cell_type": "code",
      "source": [
        "print(selection.describe())"
      ],
      "metadata": {
        "id": "LyHcMlZEg3As",
        "outputId": "95b0bc68-44ad-40a8-b679-b4804eb03cfb",
        "colab": {
          "base_uri": "https://localhost:8080/"
        }
      },
      "execution_count": 22,
      "outputs": [
        {
          "output_type": "stream",
          "name": "stdout",
          "text": [
            "           precip    windgust   windspeed     winddir  cloudcover\n",
            "count  360.000000  360.000000  360.000000  360.000000  360.000000\n",
            "mean     0.030278    8.967500    6.603889  163.301944   60.676389\n",
            "std      0.173285    5.675454    3.580135   93.270923   37.146155\n",
            "min      0.000000    0.700000    0.400000    0.300000    0.000000\n",
            "25%      0.000000    4.400000    4.000000   78.000000   26.225000\n",
            "50%      0.000000    8.300000    6.100000  169.100000   69.600000\n",
            "75%      0.000000   11.300000    8.600000  234.000000   99.300000\n",
            "max      2.300000   25.600000   16.600000  357.200000  100.000000\n"
          ]
        }
      ]
    }
  ]
}