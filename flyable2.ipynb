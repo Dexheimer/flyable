{
  "nbformat": 4,
  "nbformat_minor": 0,
  "metadata": {
    "colab": {
      "provenance": [],
      "include_colab_link": true
    },
    "kernelspec": {
      "name": "python3",
      "display_name": "Python 3"
    },
    "language_info": {
      "name": "python"
    }
  },
  "cells": [
    {
      "cell_type": "markdown",
      "metadata": {
        "id": "view-in-github",
        "colab_type": "text"
      },
      "source": [
        "<a href=\"https://colab.research.google.com/github/Dexheimer/flyable/blob/main/flyable2.ipynb\" target=\"_parent\"><img src=\"https://colab.research.google.com/assets/colab-badge.svg\" alt=\"Open In Colab\"/></a>"
      ]
    },
    {
      "cell_type": "code",
      "execution_count": null,
      "metadata": {
        "colab": {
          "base_uri": "https://localhost:8080/"
        },
        "id": "TUhnfmvUmpoR",
        "outputId": "ff859e01-a542-4d43-aee6-1f05583bbc56"
      },
      "outputs": [
        {
          "output_type": "stream",
          "name": "stdout",
          "text": [
            "Requirement already satisfied: pandas in /usr/local/lib/python3.10/dist-packages (1.5.3)\n",
            "Requirement already satisfied: python-dateutil>=2.8.1 in /usr/local/lib/python3.10/dist-packages (from pandas) (2.8.2)\n",
            "Requirement already satisfied: pytz>=2020.1 in /usr/local/lib/python3.10/dist-packages (from pandas) (2023.3.post1)\n",
            "Requirement already satisfied: numpy>=1.21.0 in /usr/local/lib/python3.10/dist-packages (from pandas) (1.23.5)\n",
            "Requirement already satisfied: six>=1.5 in /usr/local/lib/python3.10/dist-packages (from python-dateutil>=2.8.1->pandas) (1.16.0)\n",
            "Requirement already satisfied: numpy in /usr/local/lib/python3.10/dist-packages (1.23.5)\n"
          ]
        }
      ],
      "source": [
        "!pip install pandas\n",
        "!pip install numpy\n",
        "import pandas as pd\n",
        "import numpy as np\n"
      ]
    },
    {
      "cell_type": "code",
      "source": [
        "import sys\n",
        "sys.path"
      ],
      "metadata": {
        "colab": {
          "base_uri": "https://localhost:8080/"
        },
        "id": "ocyP2cy7m4Ym",
        "outputId": "b78b831f-a229-4c28-ff8c-0a1b89b9d0a7"
      },
      "execution_count": null,
      "outputs": [
        {
          "output_type": "execute_result",
          "data": {
            "text/plain": [
              "['/content',\n",
              " '/env/python',\n",
              " '/usr/lib/python310.zip',\n",
              " '/usr/lib/python3.10',\n",
              " '/usr/lib/python3.10/lib-dynload',\n",
              " '',\n",
              " '/usr/local/lib/python3.10/dist-packages',\n",
              " '/usr/lib/python3/dist-packages',\n",
              " '/usr/local/lib/python3.10/dist-packages/IPython/extensions',\n",
              " '/root/.ipython']"
            ]
          },
          "metadata": {},
          "execution_count": 2
        }
      ]
    },
    {
      "cell_type": "code",
      "source": [
        "import pandas as pd\n",
        "\n",
        "# Carregue o arquivo CSV\n",
        "sampaio_db = pd.read_csv(\"/sampaio_dataset.csv\")\n",
        "\n",
        "# Exiba os primeiros registros\n",
        "print(sampaio_db.head())\n"
      ],
      "metadata": {
        "colab": {
          "base_uri": "https://localhost:8080/"
        },
        "id": "zvi-guhfQ_S8",
        "outputId": "192bd2c2-18af-445f-f796-6ac5b244a05b"
      },
      "execution_count": 7,
      "outputs": [
        {
          "output_type": "stream",
          "name": "stdout",
          "text": [
            "                                      name             datetime  temp  \\\n",
            "0  -22.846597372875394, -42.63389168107096  2023-11-02T00:00:00  23.0   \n",
            "1  -22.846597372875394, -42.63389168107096  2023-11-02T01:00:00  22.5   \n",
            "2  -22.846597372875394, -42.63389168107096  2023-11-02T02:00:00  22.0   \n",
            "3  -22.846597372875394, -42.63389168107096  2023-11-02T03:00:00  21.0   \n",
            "4  -22.846597372875394, -42.63389168107096  2023-11-02T04:00:00  21.4   \n",
            "\n",
            "   feelslike   dew  humidity  precip  precipprob preciptype  snow  ...  \\\n",
            "0       23.0  19.5     81.01     0.0         0.0       rain     0  ...   \n",
            "1       22.5  19.0     80.28     0.1       100.0       rain     0  ...   \n",
            "2       22.0  19.5     86.09     0.1       100.0       rain     0  ...   \n",
            "3       21.0  19.5     91.52     0.1       100.0       rain     0  ...   \n",
            "4       21.4  19.5     89.12     0.0         0.0       rain     0  ...   \n",
            "\n",
            "   sealevelpressure  cloudcover  visibility  solarradiation  solarenergy  \\\n",
            "0            1013.0        88.0        10.0             0.0          0.0   \n",
            "1            1012.4        93.2        10.0             0.0          0.0   \n",
            "2            1012.0        93.2         9.4             0.0          0.0   \n",
            "3            1012.0       100.0         5.8             0.0          0.0   \n",
            "4            1012.4       100.0         8.0             0.0          0.0   \n",
            "\n",
            "   uvindex  severerisk        conditions                 icon   stations  \n",
            "0        0          10  Partially cloudy  partly-cloudy-night  SBRJ,SBGL  \n",
            "1        0          10    Rain, Overcast                 rain  SBRJ,SBGL  \n",
            "2        0          10    Rain, Overcast                 rain  SBRJ,SBGL  \n",
            "3        0          10    Rain, Overcast                 rain  SBRJ,SBGL  \n",
            "4        0          10          Overcast               cloudy  SBRJ,SBGL  \n",
            "\n",
            "[5 rows x 24 columns]\n"
          ]
        }
      ]
    },
    {
      "cell_type": "code",
      "source": [
        "print(sampaio_db.head())"
      ],
      "metadata": {
        "id": "JtYYLwUSSBpz",
        "outputId": "d279f71c-aaf8-4581-d21f-3fb89502f178",
        "colab": {
          "base_uri": "https://localhost:8080/"
        }
      },
      "execution_count": 10,
      "outputs": [
        {
          "output_type": "stream",
          "name": "stdout",
          "text": [
            "                                      name             datetime  temp  \\\n",
            "0  -22.846597372875394, -42.63389168107096  2023-11-02T00:00:00  23.0   \n",
            "1  -22.846597372875394, -42.63389168107096  2023-11-02T01:00:00  22.5   \n",
            "2  -22.846597372875394, -42.63389168107096  2023-11-02T02:00:00  22.0   \n",
            "3  -22.846597372875394, -42.63389168107096  2023-11-02T03:00:00  21.0   \n",
            "4  -22.846597372875394, -42.63389168107096  2023-11-02T04:00:00  21.4   \n",
            "\n",
            "   feelslike   dew  humidity  precip  precipprob preciptype  snow  ...  \\\n",
            "0       23.0  19.5     81.01     0.0         0.0       rain     0  ...   \n",
            "1       22.5  19.0     80.28     0.1       100.0       rain     0  ...   \n",
            "2       22.0  19.5     86.09     0.1       100.0       rain     0  ...   \n",
            "3       21.0  19.5     91.52     0.1       100.0       rain     0  ...   \n",
            "4       21.4  19.5     89.12     0.0         0.0       rain     0  ...   \n",
            "\n",
            "   sealevelpressure  cloudcover  visibility  solarradiation  solarenergy  \\\n",
            "0            1013.0        88.0        10.0             0.0          0.0   \n",
            "1            1012.4        93.2        10.0             0.0          0.0   \n",
            "2            1012.0        93.2         9.4             0.0          0.0   \n",
            "3            1012.0       100.0         5.8             0.0          0.0   \n",
            "4            1012.4       100.0         8.0             0.0          0.0   \n",
            "\n",
            "   uvindex  severerisk        conditions                 icon   stations  \n",
            "0        0          10  Partially cloudy  partly-cloudy-night  SBRJ,SBGL  \n",
            "1        0          10    Rain, Overcast                 rain  SBRJ,SBGL  \n",
            "2        0          10    Rain, Overcast                 rain  SBRJ,SBGL  \n",
            "3        0          10    Rain, Overcast                 rain  SBRJ,SBGL  \n",
            "4        0          10          Overcast               cloudy  SBRJ,SBGL  \n",
            "\n",
            "[5 rows x 24 columns]\n"
          ]
        }
      ]
    }
  ]
}