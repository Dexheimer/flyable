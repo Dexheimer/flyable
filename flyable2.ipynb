{
  "nbformat": 4,
  "nbformat_minor": 0,
  "metadata": {
    "colab": {
      "provenance": [],
      "toc_visible": true,
      "include_colab_link": true
    },
    "kernelspec": {
      "name": "python3",
      "display_name": "Python 3"
    },
    "language_info": {
      "name": "python"
    }
  },
  "cells": [
    {
      "cell_type": "markdown",
      "metadata": {
        "id": "view-in-github",
        "colab_type": "text"
      },
      "source": [
        "<a href=\"https://colab.research.google.com/github/Dexheimer/flyable/blob/main/flyable2.ipynb\" target=\"_parent\"><img src=\"https://colab.research.google.com/assets/colab-badge.svg\" alt=\"Open In Colab\"/></a>"
      ]
    },
    {
      "cell_type": "markdown",
      "source": [
        "# Import dataset"
      ],
      "metadata": {
        "id": "uahQDQV9ciqe"
      }
    },
    {
      "cell_type": "code",
      "execution_count": 1,
      "metadata": {
        "colab": {
          "base_uri": "https://localhost:8080/"
        },
        "id": "TUhnfmvUmpoR",
        "outputId": "ad50336b-2fa7-4d3c-e43e-3daabc0196fc"
      },
      "outputs": [
        {
          "output_type": "stream",
          "name": "stdout",
          "text": [
            "Requirement already satisfied: pandas in /usr/local/lib/python3.10/dist-packages (1.5.3)\n",
            "Requirement already satisfied: python-dateutil>=2.8.1 in /usr/local/lib/python3.10/dist-packages (from pandas) (2.8.2)\n",
            "Requirement already satisfied: pytz>=2020.1 in /usr/local/lib/python3.10/dist-packages (from pandas) (2023.3.post1)\n",
            "Requirement already satisfied: numpy>=1.21.0 in /usr/local/lib/python3.10/dist-packages (from pandas) (1.23.5)\n",
            "Requirement already satisfied: six>=1.5 in /usr/local/lib/python3.10/dist-packages (from python-dateutil>=2.8.1->pandas) (1.16.0)\n",
            "Requirement already satisfied: numpy in /usr/local/lib/python3.10/dist-packages (1.23.5)\n"
          ]
        }
      ],
      "source": [
        "!pip install pandas\n",
        "!pip install numpy\n",
        "import pandas as pd\n",
        "import numpy as np\n"
      ]
    },
    {
      "cell_type": "code",
      "source": [
        "import sys\n",
        "sys.path"
      ],
      "metadata": {
        "colab": {
          "base_uri": "https://localhost:8080/"
        },
        "id": "ocyP2cy7m4Ym",
        "outputId": "673e9c56-8736-4774-ba18-55a194322727"
      },
      "execution_count": 2,
      "outputs": [
        {
          "output_type": "execute_result",
          "data": {
            "text/plain": [
              "['/content',\n",
              " '/env/python',\n",
              " '/usr/lib/python310.zip',\n",
              " '/usr/lib/python3.10',\n",
              " '/usr/lib/python3.10/lib-dynload',\n",
              " '',\n",
              " '/usr/local/lib/python3.10/dist-packages',\n",
              " '/usr/lib/python3/dist-packages',\n",
              " '/usr/local/lib/python3.10/dist-packages/IPython/extensions',\n",
              " '/root/.ipython']"
            ]
          },
          "metadata": {},
          "execution_count": 2
        }
      ]
    },
    {
      "cell_type": "code",
      "source": [
        "import pandas as pd\n",
        "\n",
        "# Carregue o arquivo CSV\n",
        "sampaio_db = pd.read_csv(\"/content/sample_data/sampaio_dataset.csv\")\n",
        "\n",
        "# Exiba os primeiros registros\n",
        "print(sampaio_db.head())\n"
      ],
      "metadata": {
        "colab": {
          "base_uri": "https://localhost:8080/"
        },
        "id": "zvi-guhfQ_S8",
        "outputId": "8002e1c6-136c-442b-d0e3-a7d8bb4f426f"
      },
      "execution_count": 7,
      "outputs": [
        {
          "output_type": "stream",
          "name": "stdout",
          "text": [
            "                                      name             datetime  temp  \\\n",
            "0  -22.846597372875394, -42.63389168107096  2023-11-02T00:00:00  23.0   \n",
            "1  -22.846597372875394, -42.63389168107096  2023-11-02T01:00:00  22.5   \n",
            "2  -22.846597372875394, -42.63389168107096  2023-11-02T02:00:00  22.0   \n",
            "3  -22.846597372875394, -42.63389168107096  2023-11-02T03:00:00  21.0   \n",
            "4  -22.846597372875394, -42.63389168107096  2023-11-02T04:00:00  21.4   \n",
            "\n",
            "   feelslike   dew  humidity  precip  precipprob preciptype  snow  ...  \\\n",
            "0       23.0  19.5     81.01     0.0         0.0       rain     0  ...   \n",
            "1       22.5  19.0     80.28     0.1       100.0       rain     0  ...   \n",
            "2       22.0  19.5     86.09     0.1       100.0       rain     0  ...   \n",
            "3       21.0  19.5     91.52     0.1       100.0       rain     0  ...   \n",
            "4       21.4  19.5     89.12     0.0         0.0       rain     0  ...   \n",
            "\n",
            "   sealevelpressure  cloudcover  visibility  solarradiation  solarenergy  \\\n",
            "0            1013.0        88.0        10.0             0.0          0.0   \n",
            "1            1012.4        93.2        10.0             0.0          0.0   \n",
            "2            1012.0        93.2         9.4             0.0          0.0   \n",
            "3            1012.0       100.0         5.8             0.0          0.0   \n",
            "4            1012.4       100.0         8.0             0.0          0.0   \n",
            "\n",
            "   uvindex  severerisk        conditions                 icon   stations  \n",
            "0        0          10  Partially cloudy  partly-cloudy-night  SBRJ,SBGL  \n",
            "1        0          10    Rain, Overcast                 rain  SBRJ,SBGL  \n",
            "2        0          10    Rain, Overcast                 rain  SBRJ,SBGL  \n",
            "3        0          10    Rain, Overcast                 rain  SBRJ,SBGL  \n",
            "4        0          10          Overcast               cloudy  SBRJ,SBGL  \n",
            "\n",
            "[5 rows x 24 columns]\n"
          ]
        }
      ]
    },
    {
      "cell_type": "code",
      "source": [
        "print(sampaio_db.head())"
      ],
      "metadata": {
        "id": "JtYYLwUSSBpz",
        "outputId": "5730b4b1-8ed8-4b09-b77b-38d50ea3acf6",
        "colab": {
          "base_uri": "https://localhost:8080/"
        }
      },
      "execution_count": 8,
      "outputs": [
        {
          "output_type": "stream",
          "name": "stdout",
          "text": [
            "                                      name             datetime  temp  \\\n",
            "0  -22.846597372875394, -42.63389168107096  2023-11-02T00:00:00  23.0   \n",
            "1  -22.846597372875394, -42.63389168107096  2023-11-02T01:00:00  22.5   \n",
            "2  -22.846597372875394, -42.63389168107096  2023-11-02T02:00:00  22.0   \n",
            "3  -22.846597372875394, -42.63389168107096  2023-11-02T03:00:00  21.0   \n",
            "4  -22.846597372875394, -42.63389168107096  2023-11-02T04:00:00  21.4   \n",
            "\n",
            "   feelslike   dew  humidity  precip  precipprob preciptype  snow  ...  \\\n",
            "0       23.0  19.5     81.01     0.0         0.0       rain     0  ...   \n",
            "1       22.5  19.0     80.28     0.1       100.0       rain     0  ...   \n",
            "2       22.0  19.5     86.09     0.1       100.0       rain     0  ...   \n",
            "3       21.0  19.5     91.52     0.1       100.0       rain     0  ...   \n",
            "4       21.4  19.5     89.12     0.0         0.0       rain     0  ...   \n",
            "\n",
            "   sealevelpressure  cloudcover  visibility  solarradiation  solarenergy  \\\n",
            "0            1013.0        88.0        10.0             0.0          0.0   \n",
            "1            1012.4        93.2        10.0             0.0          0.0   \n",
            "2            1012.0        93.2         9.4             0.0          0.0   \n",
            "3            1012.0       100.0         5.8             0.0          0.0   \n",
            "4            1012.4       100.0         8.0             0.0          0.0   \n",
            "\n",
            "   uvindex  severerisk        conditions                 icon   stations  \n",
            "0        0          10  Partially cloudy  partly-cloudy-night  SBRJ,SBGL  \n",
            "1        0          10    Rain, Overcast                 rain  SBRJ,SBGL  \n",
            "2        0          10    Rain, Overcast                 rain  SBRJ,SBGL  \n",
            "3        0          10    Rain, Overcast                 rain  SBRJ,SBGL  \n",
            "4        0          10          Overcast               cloudy  SBRJ,SBGL  \n",
            "\n",
            "[5 rows x 24 columns]\n"
          ]
        }
      ]
    },
    {
      "cell_type": "markdown",
      "source": [
        "# DataFrame properties"
      ],
      "metadata": {
        "id": "8lVeG2SNciIa"
      }
    },
    {
      "cell_type": "markdown",
      "source": [
        "- check the column names"
      ],
      "metadata": {
        "id": "oJhQgrNycWcf"
      }
    },
    {
      "cell_type": "code",
      "source": [
        "print(sampaio_db.columns.values)"
      ],
      "metadata": {
        "colab": {
          "base_uri": "https://localhost:8080/"
        },
        "id": "HT4bPSNqcYMN",
        "outputId": "9572f3c2-af48-48d1-cc90-5df480adecf0"
      },
      "execution_count": 9,
      "outputs": [
        {
          "output_type": "stream",
          "name": "stdout",
          "text": [
            "['name' 'datetime' 'temp' 'feelslike' 'dew' 'humidity' 'precip'\n",
            " 'precipprob' 'preciptype' 'snow' 'snowdepth' 'windgust' 'windspeed'\n",
            " 'winddir' 'sealevelpressure' 'cloudcover' 'visibility' 'solarradiation'\n",
            " 'solarenergy' 'uvindex' 'severerisk' 'conditions' 'icon' 'stations']\n"
          ]
        }
      ]
    },
    {
      "cell_type": "markdown",
      "source": [
        "- Check the number of rows"
      ],
      "metadata": {
        "id": "3_0ELXxldDP-"
      }
    },
    {
      "cell_type": "code",
      "source": [
        "print(len(sampaio_db))"
      ],
      "metadata": {
        "colab": {
          "base_uri": "https://localhost:8080/"
        },
        "id": "lR_tTP96c44S",
        "outputId": "d61976f4-d165-4e9e-e3c2-1a3169668794"
      },
      "execution_count": 10,
      "outputs": [
        {
          "output_type": "stream",
          "name": "stdout",
          "text": [
            "360\n"
          ]
        }
      ]
    },
    {
      "cell_type": "markdown",
      "source": [
        "- Check dataframe shape (number of rows, number of columns)"
      ],
      "metadata": {
        "id": "J2skGBw4dHIM"
      }
    },
    {
      "cell_type": "code",
      "source": [
        "print(sampaio_db.shape)"
      ],
      "metadata": {
        "colab": {
          "base_uri": "https://localhost:8080/"
        },
        "id": "q9ATmqwtdHb8",
        "outputId": "f86adf31-c813-4e67-9bbd-25527b9f92d6"
      },
      "execution_count": 11,
      "outputs": [
        {
          "output_type": "stream",
          "name": "stdout",
          "text": [
            "(360, 24)\n"
          ]
        }
      ]
    },
    {
      "cell_type": "markdown",
      "source": [
        "# New Section"
      ],
      "metadata": {
        "id": "sIO_akQccjng"
      }
    }
  ]
}